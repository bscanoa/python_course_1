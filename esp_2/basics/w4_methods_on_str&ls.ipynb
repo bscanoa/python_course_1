{
 "metadata": {
  "language_info": {
   "codemirror_mode": {
    "name": "ipython",
    "version": 3
   },
   "file_extension": ".py",
   "mimetype": "text/x-python",
   "name": "python",
   "nbconvert_exporter": "python",
   "pygments_lexer": "ipython3",
   "version": "3.9.5"
  },
  "orig_nbformat": 2,
  "kernelspec": {
   "name": "python395jvsc74a57bd036cf16204b8548560b1c020c4e8fb5b57f0e4c58016f52f2d4be01e192833930",
   "display_name": "Python 3.9.5 64-bit"
  },
  "metadata": {
   "interpreter": {
    "hash": "36cf16204b8548560b1c020c4e8fb5b57f0e4c58016f52f2d4be01e192833930"
   }
  }
 },
 "nbformat": 4,
 "nbformat_minor": 2,
 "cells": [
  {
   "cell_type": "code",
   "execution_count": 2,
   "metadata": {},
   "outputs": [
    {
     "output_type": "stream",
     "name": "stdout",
     "text": [
      "[5, 27, 3, 12]\n"
     ]
    }
   ],
   "source": [
    "# Methods on Lists, some methods return None, because is the original list who changed.\n",
    "mylist = []\n",
    "mylist.append(5) # Add an element\n",
    "mylist.append(27)\n",
    "mylist.append(3)\n",
    "mylist.append(12)\n",
    "print(mylist)\n"
   ]
  },
  {
   "cell_type": "code",
   "execution_count": 4,
   "metadata": {},
   "outputs": [
    {
     "output_type": "stream",
     "name": "stdout",
     "text": [
      "[5, 12, 12, 27, 3, 12] 3\n"
     ]
    }
   ],
   "source": [
    "mylist.insert(1, 12) # Add an element in a specific position\n",
    "print(mylist, mylist.count(12))\n"
   ]
  },
  {
   "cell_type": "code",
   "execution_count": 5,
   "metadata": {},
   "outputs": [
    {
     "output_type": "stream",
     "name": "stdout",
     "text": [
      "4\n1\n"
     ]
    }
   ],
   "source": [
    "print(mylist.index(3)) # Position on the list\n",
    "print(mylist.count(5)) # How many times is on the list"
   ]
  },
  {
   "cell_type": "code",
   "execution_count": 6,
   "metadata": {},
   "outputs": [
    {
     "output_type": "stream",
     "name": "stdout",
     "text": [
      "[12, 3, 27, 12, 12, 5]\n"
     ]
    }
   ],
   "source": [
    "mylist.reverse() \n",
    "print(mylist)"
   ]
  },
  {
   "cell_type": "code",
   "execution_count": 7,
   "metadata": {},
   "outputs": [
    {
     "output_type": "stream",
     "name": "stdout",
     "text": [
      "[3, 5, 12, 12, 12, 27]\n"
     ]
    }
   ],
   "source": [
    "mylist.sort() # \"Ordena\" los elementos de la lista\n",
    "print(mylist)"
   ]
  },
  {
   "cell_type": "code",
   "execution_count": 8,
   "metadata": {},
   "outputs": [
    {
     "output_type": "stream",
     "name": "stdout",
     "text": [
      "[3, 5, 12, 12, 27]\n"
     ]
    }
   ],
   "source": [
    "mylist.remove(12) # Elimina el elemento \n",
    "print(mylist)"
   ]
  },
  {
   "cell_type": "code",
   "execution_count": 10,
   "metadata": {},
   "outputs": [
    {
     "output_type": "stream",
     "name": "stdout",
     "text": [
      "12 \nLa lista sin el último elemento: [3, 5, 12]\n"
     ]
    }
   ],
   "source": [
    "lastitem = mylist.pop()\n",
    "print(lastitem, '\\nLa lista sin el último elemento:', mylist)\n"
   ]
  },
  {
   "cell_type": "code",
   "execution_count": null,
   "metadata": {},
   "outputs": [],
   "source": [
    "# Append vs Concatenate\n",
    "\n",
    "origlist = [45,32,88]\n",
    "\n",
    "origlist.append['cat']\n",
    "#or\n",
    "origlist = origlist + ['cat']"
   ]
  },
  {
   "cell_type": "code",
   "execution_count": 3,
   "metadata": {},
   "outputs": [
    {
     "output_type": "stream",
     "name": "stdout",
     "text": [
      "origlist [45, 32, 88]\nthe id: 139648994230720 \n\nnewlist [45, 32, 88, 'cat'] \nthe id: 139648994231680 \n\noriglist [45, 32, 88, 'cat'] \nthe id: 139648994230720\n"
     ]
    }
   ],
   "source": [
    "origlist = [45,32,88]\n",
    "print('origlist:', origlist, '\\nthe id:', id(origlist),'\\n')\n",
    "\n",
    "newlist = origlist + ['cat']\n",
    "print('newlist:', newlist, '\\nthe id:', id(newlist), '\\n')\n",
    "\n",
    "origlist.append('cat')\n",
    "print('origlist:', origlist, '\\nthe id:', id(origlist))"
   ]
  },
  {
   "cell_type": "code",
   "execution_count": 9,
   "metadata": {},
   "outputs": [
    {
     "output_type": "stream",
     "name": "stdout",
     "text": [
      "[45, 32, 88, 'cat', 'cow'] 139648990576768 \n [45, 32, 88, 'cat'] 139648987477184\n"
     ]
    }
   ],
   "source": [
    "origlist = [45,32,88]\n",
    "alislist = origlist\n",
    "origlist += ['cat'] # Mutate the list, dont create a new one.\n",
    "# print(id(alislist), id(origlist))\n",
    "origlist = origlist + ['cow']\n",
    "print(origlist, id(origlist), '\\n', alislist, id(alislist))"
   ]
  },
  {
   "cell_type": "code",
   "execution_count": 16,
   "metadata": {},
   "outputs": [
    {
     "output_type": "stream",
     "name": "stdout",
     "text": [
      "HELLO, WORLD\nhello, world\nHello, World\n"
     ]
    }
   ],
   "source": [
    "# Methods on strings\n",
    "# Make a copy of the original because strigns are inmutable.\n",
    "ss = 'Hello, World'\n",
    "print(ss.upper())\n",
    "\n",
    "tt = ss.lower()\n",
    "print(tt)\n",
    "print(ss)"
   ]
  },
  {
   "cell_type": "code",
   "execution_count": 16,
   "metadata": {},
   "outputs": [
    {
     "output_type": "stream",
     "name": "stdout",
     "text": [
      "3\n***Hello, World***\n  Hell***, W***rld    \n"
     ]
    }
   ],
   "source": [
    "ss = '  Hello, World    '\n",
    "\n",
    "els = ss.count('l')\n",
    "print(els)\n",
    "\n",
    "print('***' + ss.strip() + '***')\n",
    "\n",
    "news = ss.replace('o', '***')\n",
    "print(news)"
   ]
  },
  {
   "cell_type": "code",
   "execution_count": 24,
   "metadata": {},
   "outputs": [
    {
     "output_type": "stream",
     "name": "stdout",
     "text": [
      "pppppppppppp\n"
     ]
    }
   ],
   "source": [
    "s = ''' \n",
    "python \n",
    "r\n",
    "m\n",
    "ocks'''\n",
    "print(s[2]*s.index('m'))"
   ]
  },
  {
   "cell_type": "code",
   "execution_count": 18,
   "metadata": {},
   "outputs": [
    {
     "output_type": "stream",
     "name": "stdout",
     "text": [
      "Hello Rodney Dangerfield. Your score is -1\nHello Marlon Brando. Your score is 1\nHello You. Your score is 100\n"
     ]
    }
   ],
   "source": [
    "# Format\n",
    "scores = [(\"Rodney Dangerfield\", -1), (\"Marlon Brando\", 1), (\"You\", 100)]\n",
    "for person in scores:\n",
    "    name = person[0]\n",
    "    score = person[1]\n",
    "    print(\"Hello \" + name + \". Your score is \" + str(score))\n"
   ]
  },
  {
   "cell_type": "code",
   "execution_count": 20,
   "metadata": {},
   "outputs": [
    {
     "output_type": "stream",
     "name": "stdout",
     "text": [
      "Hello Rodney Dangerfield. Your score is -1\nHello Marlon Brando. Your score is 1\nHello You. Your score is 100\n"
     ]
    }
   ],
   "source": [
    "scores = [('Rodney Dangerfield', -1), ('Marlon Brando', 1), ('You', 100)]\n",
    "for person in scores:\n",
    "    name = person[0]\n",
    "    score = person[1]\n",
    "    # print('Hello' + name + '. Your score is '+ str(score))\n",
    "    print('Hello {}. Your score is {}'.format(name, score)) # With format"
   ]
  },
  {
   "cell_type": "code",
   "execution_count": 5,
   "metadata": {},
   "outputs": [
    {
     "output_type": "stream",
     "name": "stdout",
     "text": [
      "Hello Kasjda!\n"
     ]
    }
   ],
   "source": [
    "person = input('Your name: ')\n",
    "greeting = 'Hello {}!'.format(person)\n",
    "print(greeting)"
   ]
  },
  {
   "cell_type": "code",
   "execution_count": 2,
   "metadata": {},
   "outputs": [
    {
     "output_type": "stream",
     "name": "stdout",
     "text": [
      "Hello Jesíiii!\n"
     ]
    }
   ],
   "source": [
    "person = input('Enter your name: ')\n",
    "print('Hello {}!'.format(person))"
   ]
  },
  {
   "cell_type": "code",
   "execution_count": 7,
   "metadata": {},
   "outputs": [
    {
     "output_type": "stream",
     "name": "stdout",
     "text": [
      "$747474474746242.00 discounted by 5.0% is $710100751008929.88.\n"
     ]
    }
   ],
   "source": [
    "origPrice = float(input('Enter the original price: $'))\n",
    "discount = float(input('Enter discount percentage: '))\n",
    "newPrice = (1 - discount/100) * origPrice\n",
    "print('${:.2f} discounted by {}% is ${:.2f}.'.format(origPrice, discount, newPrice))"
   ]
  },
  {
   "cell_type": "code",
   "execution_count": 12,
   "metadata": {},
   "outputs": [
    {
     "output_type": "stream",
     "name": "stdout",
     "text": [
      "Hello, Michelle. Nice to meet you.\n Hello, Nice to meet you. Michelle.\n\n"
     ]
    }
   ],
   "source": [
    "name = 'Michelle'\n",
    "gret = 'Nice to meet you'\n",
    "s = 'Hello, {}. {}.\\n'\n",
    "\n",
    "print(s.format(name, gret), s.format(gret, name))\n",
    "# print(s.format(name)) Error, por parametros."
   ]
  },
  {
   "cell_type": "code",
   "execution_count": 15,
   "metadata": {},
   "outputs": [
    {
     "output_type": "error",
     "ename": "ValueError",
     "evalue": "unexpected '{' in field name",
     "traceback": [
      "\u001b[0;31m---------------------------------------------------------------------------\u001b[0m",
      "\u001b[0;31mValueError\u001b[0m                                Traceback (most recent call last)",
      "\u001b[0;32m<ipython-input-15-88ca0c547dff>\u001b[0m in \u001b[0;36m<module>\u001b[0;34m\u001b[0m\n\u001b[1;32m      1\u001b[0m \u001b[0ma\u001b[0m \u001b[0;34m=\u001b[0m \u001b[0;36m5\u001b[0m\u001b[0;34m\u001b[0m\u001b[0;34m\u001b[0m\u001b[0m\n\u001b[1;32m      2\u001b[0m \u001b[0mb\u001b[0m \u001b[0;34m=\u001b[0m \u001b[0;36m9\u001b[0m\u001b[0;34m\u001b[0m\u001b[0;34m\u001b[0m\u001b[0m\n\u001b[0;32m----> 3\u001b[0;31m \u001b[0msetStr\u001b[0m \u001b[0;34m=\u001b[0m \u001b[0;34m'The set is \\{\\{ {}, {} \\}\\}.'\u001b[0m\u001b[0;34m.\u001b[0m\u001b[0mformat\u001b[0m\u001b[0;34m(\u001b[0m\u001b[0ma\u001b[0m\u001b[0;34m,\u001b[0m \u001b[0mb\u001b[0m\u001b[0;34m)\u001b[0m\u001b[0;34m\u001b[0m\u001b[0;34m\u001b[0m\u001b[0m\n\u001b[0m\u001b[1;32m      4\u001b[0m \u001b[0mprint\u001b[0m\u001b[0;34m(\u001b[0m\u001b[0msetStr\u001b[0m\u001b[0;34m)\u001b[0m\u001b[0;34m\u001b[0m\u001b[0;34m\u001b[0m\u001b[0m\n",
      "\u001b[0;31mValueError\u001b[0m: unexpected '{' in field name"
     ]
    }
   ],
   "source": [
    "a = 5\n",
    "b = 9\n",
    "setStr = 'The set is \\{\\{ {}, {} \\}\\}.'.format(a, b)\n",
    "print(setStr)"
   ]
  },
  {
   "cell_type": "code",
   "execution_count": null,
   "metadata": {},
   "outputs": [],
   "source": []
  }
 ]
}